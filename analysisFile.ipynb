{
 "cells": [
  {
   "cell_type": "code",
   "execution_count": 1,
   "metadata": {},
   "outputs": [],
   "source": [
    "import pandas"
   ]
  },
  {
   "cell_type": "code",
   "execution_count": 2,
   "metadata": {},
   "outputs": [],
   "source": [
    "data = pandas.read_csv(r'C:\\Users\\Himesh\\Documents\\export_merged_method.csv')\n",
    "data.drop(['id','is_smell','sample_id','user_id','method_name','package_name','project_name','type_name','smell_id','creation_date_time','isim'],axis=1,inplace=True)"
   ]
  },
  {
   "cell_type": "code",
   "execution_count": 3,
   "metadata": {},
   "outputs": [
    {
     "data": {
      "text/plain": [
       "<bound method DataFrame.info of        iscm  isecb  islp  isma   id.1  annotation_id  is_class  \\\n",
       "107       0      1     1     1    159            158         0   \n",
       "149       0      1     1     1    212            211         0   \n",
       "165       0      1     1     1    228            227         0   \n",
       "168       0      1     1     1    231            230         0   \n",
       "438       0      1     1     1    609            608         0   \n",
       "...     ...    ...   ...   ...    ...            ...       ...   \n",
       "12292     0      1     0     1  16689          17476         0   \n",
       "12323     0      1     0     1  16720          17522         0   \n",
       "12326     0      1     0     1  16723          17528         0   \n",
       "12513     0      1     1     1  16910          17787         0   \n",
       "12516     0      1     1     1  16913          17792         0   \n",
       "\n",
       "       method_or_class_id   id.2  cc  loc  pc  \n",
       "107                  3343   3343   2    7   1  \n",
       "149                     4      4   4   13   1  \n",
       "165                   819    819   7   28   1  \n",
       "168                   863    863   9   29   2  \n",
       "438                   947    947   2    6   1  \n",
       "...                   ...    ...  ..  ...  ..  \n",
       "12292                6963   6963   2   11   1  \n",
       "12323                7066   7066   2    6   1  \n",
       "12326                7068   7068   2    6   1  \n",
       "12513               11252  11252   3   10   1  \n",
       "12516               11252  11252   3   10   1  \n",
       "\n",
       "[462 rows x 12 columns]>"
      ]
     },
     "execution_count": 3,
     "metadata": {},
     "output_type": "execute_result"
    }
   ],
   "source": [
    "#data.info\n",
    "cmData = data.loc[data['iscm']==0]\n",
    "cmData = cmData.loc[cmData['cc'] >1]\n",
    "cmData.info"
   ]
  },
  {
   "cell_type": "code",
   "execution_count": 4,
   "metadata": {},
   "outputs": [
    {
     "name": "stdout",
     "output_type": "stream",
     "text": [
      "3.497835497835498\n",
      "2.1156876266124334\n"
     ]
    }
   ],
   "source": [
    "print(cmData['cc'].mean())\n",
    "print(cmData['cc'].std())"
   ]
  },
  {
   "cell_type": "code",
   "execution_count": 5,
   "metadata": {},
   "outputs": [
    {
     "name": "stdout",
     "output_type": "stream",
     "text": [
      "3.0063241106719367\n",
      "2.309164016477793\n"
     ]
    }
   ],
   "source": [
    "lpData = data.loc[data['islp']==0]\n",
    "lpData = data.loc[data['pc'] > 1]\n",
    "\n",
    "print(lpData['pc'].mean())\n",
    "print(lpData['pc'].std())"
   ]
  },
  {
   "cell_type": "code",
   "execution_count": 6,
   "metadata": {},
   "outputs": [],
   "source": [
    "data = pandas.read_csv(r'C:\\Users\\Himesh\\Documents\\export_merged_class.csv')\n",
    "data.drop(['id','is_smell','sample_id','user_id','method_or_class_id','package_name','project_name','type_name','smell_id','creation_date_time','isim'],axis=1,inplace=True)"
   ]
  },
  {
   "cell_type": "code",
   "execution_count": 7,
   "metadata": {},
   "outputs": [
    {
     "name": "stdout",
     "output_type": "stream",
     "text": [
      "0.7550602683647942\n",
      "0.4301003726275279\n"
     ]
    }
   ],
   "source": [
    "maData = data.loc[data['isma']==0]\n",
    "maData = data.loc[data['isma'] > -1]\n",
    "\n",
    "print(maData['isma'].mean())\n",
    "print(maData['isma'].std())"
   ]
  }
 ],
 "metadata": {
  "interpreter": {
   "hash": "b3ba2566441a7c06988d0923437866b63cedc61552a5af99d1f4fb67d367b25f"
  },
  "kernelspec": {
   "display_name": "Python 3.8.8 64-bit ('base': conda)",
   "language": "python",
   "name": "python3"
  },
  "language_info": {
   "codemirror_mode": {
    "name": "ipython",
    "version": 3
   },
   "file_extension": ".py",
   "mimetype": "text/x-python",
   "name": "python",
   "nbconvert_exporter": "python",
   "pygments_lexer": "ipython3",
   "version": "3.8.8"
  },
  "orig_nbformat": 4
 },
 "nbformat": 4,
 "nbformat_minor": 2
}
